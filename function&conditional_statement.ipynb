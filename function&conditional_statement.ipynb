{
  "nbformat": 4,
  "nbformat_minor": 0,
  "metadata": {
    "colab": {
      "provenance": [],
      "authorship_tag": "ABX9TyMmtDLwVblsw3240U9kKvvI",
      "include_colab_link": true
    },
    "kernelspec": {
      "name": "python3",
      "display_name": "Python 3"
    },
    "language_info": {
      "name": "python"
    }
  },
  "cells": [
    {
      "cell_type": "markdown",
      "metadata": {
        "id": "view-in-github",
        "colab_type": "text"
      },
      "source": [
        "<a href=\"https://colab.research.google.com/github/festuge/function-conditional.statement/blob/main/function%26conditional_statement.ipynb\" target=\"_parent\"><img src=\"https://colab.research.google.com/assets/colab-badge.svg\" alt=\"Open In Colab\"/></a>"
      ]
    },
    {
      "cell_type": "markdown",
      "source": [
        "How to test functions using Python Doctests\n"
      ],
      "metadata": {
        "id": "tYmPzrT6WrPS"
      }
    },
    {
      "cell_type": "code",
      "execution_count": 1,
      "metadata": {
        "id": "9LOXGCPDWpK6"
      },
      "outputs": [],
      "source": [
        "#automated testing\n",
        "import doctest"
      ]
    },
    {
      "cell_type": "code",
      "source": [
        "def add_numbers(a, b):\n",
        "  \"\"\"This function takes twominputs, sum them and return the result\n",
        "  >>> add_numbers(2, 3)\n",
        "  5\n",
        "  >>> add_numbers(10, 2)\n",
        "  12\n",
        "  >>> add_numbers(4, 3)\n",
        "  7\n",
        "  \"\"\"\n",
        "  return a+b"
      ],
      "metadata": {
        "id": "FuwxbuT8XAYD"
      },
      "execution_count": 2,
      "outputs": []
    },
    {
      "cell_type": "code",
      "source": [
        "add_numbers(7,8)"
      ],
      "metadata": {
        "colab": {
          "base_uri": "https://localhost:8080/"
        },
        "id": "IQFZ52XxX2IG",
        "outputId": "c1f758df-1b3b-4f76-f18c-e879a842e39c"
      },
      "execution_count": 3,
      "outputs": [
        {
          "output_type": "execute_result",
          "data": {
            "text/plain": [
              "15"
            ]
          },
          "metadata": {},
          "execution_count": 3
        }
      ]
    },
    {
      "cell_type": "markdown",
      "source": [
        "What are built-in functions?\n",
        "pyhthon comes with some helpful \"built-in\" functions that are simply part of the python language and help us do operations"
      ],
      "metadata": {
        "id": "6lKnjtBbYnGI"
      }
    },
    {
      "cell_type": "code",
      "source": [
        "# print\n",
        "print(\"forcefully print out whatever you pass\")"
      ],
      "metadata": {
        "colab": {
          "base_uri": "https://localhost:8080/"
        },
        "id": "70SqYoJjY_pf",
        "outputId": "1663fc82-05e6-4aae-91be-7ecf3e3f42fb"
      },
      "execution_count": 4,
      "outputs": [
        {
          "output_type": "stream",
          "name": "stdout",
          "text": [
            "forcefully print out whatever you pass\n"
          ]
        }
      ]
    },
    {
      "cell_type": "code",
      "source": [
        "#let's see the data type of bmi_joe:\n",
        "joe_bmi = 27.5\n",
        "type(joe_bmi)"
      ],
      "metadata": {
        "colab": {
          "base_uri": "https://localhost:8080/"
        },
        "id": "pxEJKKIqajtK",
        "outputId": "fd88ec2e-a56c-4cc5-fb9c-7d84de2161ef"
      },
      "execution_count": 5,
      "outputs": [
        {
          "output_type": "execute_result",
          "data": {
            "text/plain": [
              "float"
            ]
          },
          "metadata": {},
          "execution_count": 5
        }
      ]
    },
    {
      "cell_type": "markdown",
      "source": [
        "some built in function works well with list."
      ],
      "metadata": {
        "id": "MJvvbUPfZdGZ"
      }
    },
    {
      "cell_type": "code",
      "source": [
        "# lets save a collection of data in a list\n",
        "this_is_a_string = (\"claud\", 50, 80, 170, \"parrot\")\n",
        "values = (11.82, 65, 48, 58, 55, 90)\n",
        "print(values)\n",
        "print(this_is_a_string)"
      ],
      "metadata": {
        "colab": {
          "base_uri": "https://localhost:8080/"
        },
        "id": "jQtJXmhSZZSX",
        "outputId": "25da7c0b-f698-40f8-c270-1a75bd3a1dcb"
      },
      "execution_count": 32,
      "outputs": [
        {
          "output_type": "stream",
          "name": "stdout",
          "text": [
            "(11.82, 65, 48, 58, 55, 90)\n",
            "('claud', 50, 80, 170, 'parrot')\n"
          ]
        }
      ]
    },
    {
      "cell_type": "markdown",
      "source": [
        "we can output the value of a list using \"len\""
      ],
      "metadata": {
        "id": "BvyQ1wE3aIAk"
      }
    },
    {
      "cell_type": "code",
      "source": [
        "len(values)"
      ],
      "metadata": {
        "colab": {
          "base_uri": "https://localhost:8080/"
        },
        "id": "cgjyzl-xaMGv",
        "outputId": "08a78c05-d476-45a7-be76-4995097b9a6e"
      },
      "execution_count": 33,
      "outputs": [
        {
          "output_type": "execute_result",
          "data": {
            "text/plain": [
              "6"
            ]
          },
          "metadata": {},
          "execution_count": 33
        }
      ]
    },
    {
      "cell_type": "code",
      "source": [
        "len(this_is_a_string)"
      ],
      "metadata": {
        "colab": {
          "base_uri": "https://localhost:8080/"
        },
        "id": "y8QwnrwV7OZN",
        "outputId": "dd9e0518-450a-4ed6-fda6-ed23e4d483bb"
      },
      "execution_count": 34,
      "outputs": [
        {
          "output_type": "execute_result",
          "data": {
            "text/plain": [
              "5"
            ]
          },
          "metadata": {},
          "execution_count": 34
        }
      ]
    },
    {
      "cell_type": "code",
      "source": [
        "values"
      ],
      "metadata": {
        "colab": {
          "base_uri": "https://localhost:8080/"
        },
        "id": "pbyVi3lDcLks",
        "outputId": "af832bf3-a5d7-4557-e6f0-431385a831dd"
      },
      "execution_count": 35,
      "outputs": [
        {
          "output_type": "execute_result",
          "data": {
            "text/plain": [
              "(11.82, 65, 48, 58, 55, 90)"
            ]
          },
          "metadata": {},
          "execution_count": 35
        }
      ]
    },
    {
      "cell_type": "code",
      "source": [
        "#smallest value:\n",
        "min(values)"
      ],
      "metadata": {
        "colab": {
          "base_uri": "https://localhost:8080/"
        },
        "id": "P828AfUjcNu0",
        "outputId": "5a685bb7-1feb-4fb1-ee97-b7e190336f20"
      },
      "execution_count": 36,
      "outputs": [
        {
          "output_type": "execute_result",
          "data": {
            "text/plain": [
              "11.82"
            ]
          },
          "metadata": {},
          "execution_count": 36
        }
      ]
    },
    {
      "cell_type": "code",
      "source": [
        "#largest value:\n",
        "max(values)"
      ],
      "metadata": {
        "colab": {
          "base_uri": "https://localhost:8080/"
        },
        "id": "uCvoOcjdcgRU",
        "outputId": "f6cf9bbe-9ffd-49ad-e119-4b343dcce5f1"
      },
      "execution_count": 37,
      "outputs": [
        {
          "output_type": "execute_result",
          "data": {
            "text/plain": [
              "90"
            ]
          },
          "metadata": {},
          "execution_count": 37
        }
      ]
    },
    {
      "cell_type": "code",
      "source": [
        "#sort the values:\n",
        "sorted(values)"
      ],
      "metadata": {
        "colab": {
          "base_uri": "https://localhost:8080/"
        },
        "id": "pHj35qZbck_3",
        "outputId": "c7d6616c-bcd5-4067-d692-d94e0f40ad80"
      },
      "execution_count": 38,
      "outputs": [
        {
          "output_type": "execute_result",
          "data": {
            "text/plain": [
              "[11.82, 48, 55, 58, 65, 90]"
            ]
          },
          "metadata": {},
          "execution_count": 38
        }
      ]
    },
    {
      "cell_type": "markdown",
      "source": [
        "docs.python.org"
      ],
      "metadata": {
        "id": "RW4A17Coc2vJ"
      }
    },
    {
      "cell_type": "markdown",
      "source": [
        "a special built-in function: help()\n",
        "it pulls up documents of other functions"
      ],
      "metadata": {
        "id": "1dStJwakc6Tr"
      }
    },
    {
      "cell_type": "code",
      "source": [
        "help(sorted)"
      ],
      "metadata": {
        "colab": {
          "base_uri": "https://localhost:8080/"
        },
        "id": "V7VgILr1cqvM",
        "outputId": "25810e69-e61b-4b77-df58-5ca75ef772a9"
      },
      "execution_count": null,
      "outputs": [
        {
          "output_type": "stream",
          "name": "stdout",
          "text": [
            "Help on built-in function sorted in module builtins:\n",
            "\n",
            "sorted(iterable, /, *, key=None, reverse=False)\n",
            "    Return a new list containing all items from the iterable in ascending order.\n",
            "    \n",
            "    A custom key function can be supplied to customize the sort order, and the\n",
            "    reverse flag can be set to request the result in descending order.\n",
            "\n"
          ]
        }
      ]
    },
    {
      "cell_type": "code",
      "source": [
        "help(print)"
      ],
      "metadata": {
        "colab": {
          "base_uri": "https://localhost:8080/"
        },
        "id": "twHp3GwQ9ciT",
        "outputId": "b44fb8b0-2c6f-4122-b2df-1f1a46ac3278"
      },
      "execution_count": 40,
      "outputs": [
        {
          "output_type": "stream",
          "name": "stdout",
          "text": [
            "Help on built-in function print in module builtins:\n",
            "\n",
            "print(...)\n",
            "    print(value, ..., sep=' ', end='\\n', file=sys.stdout, flush=False)\n",
            "    \n",
            "    Prints the values to a stream, or to sys.stdout by default.\n",
            "    Optional keyword arguments:\n",
            "    file:  a file-like object (stream); defaults to the current sys.stdout.\n",
            "    sep:   string inserted between values, default a space.\n",
            "    end:   string appended after the last value, default a newline.\n",
            "    flush: whether to forcibly flush the stream.\n",
            "\n"
          ]
        }
      ]
    },
    {
      "cell_type": "code",
      "source": [
        "values"
      ],
      "metadata": {
        "colab": {
          "base_uri": "https://localhost:8080/"
        },
        "id": "-doLr1Pwdc4a",
        "outputId": "65513be1-2b70-40d4-db45-f64fa6c423f2"
      },
      "execution_count": null,
      "outputs": [
        {
          "output_type": "execute_result",
          "data": {
            "text/plain": [
              "(11.82, 65, 48, 58, 55)"
            ]
          },
          "metadata": {},
          "execution_count": 18
        }
      ]
    },
    {
      "cell_type": "code",
      "source": [
        "sorted(values)"
      ],
      "metadata": {
        "colab": {
          "base_uri": "https://localhost:8080/"
        },
        "id": "O9JAIDrvdd3K",
        "outputId": "0675cbb1-4c13-4a7f-e789-f6ef0a5038e5"
      },
      "execution_count": null,
      "outputs": [
        {
          "output_type": "execute_result",
          "data": {
            "text/plain": [
              "[11.82, 48, 55, 58, 65]"
            ]
          },
          "metadata": {},
          "execution_count": 19
        }
      ]
    },
    {
      "cell_type": "markdown",
      "source": [
        "?sorted"
      ],
      "metadata": {
        "id": "5cAL1Jh1dmva"
      }
    },
    {
      "cell_type": "code",
      "source": [
        "?sorted"
      ],
      "metadata": {
        "id": "1Fn0XvJ5dg3L"
      },
      "execution_count": null,
      "outputs": []
    },
    {
      "cell_type": "markdown",
      "source": [
        "Methods: build-in function for different data types"
      ],
      "metadata": {
        "id": "Qsm20BeDdzyi"
      }
    },
    {
      "cell_type": "code",
      "source": [
        "#remember how different data types "
      ],
      "metadata": {
        "id": "qUqUtpafd8bP"
      },
      "execution_count": null,
      "outputs": []
    },
    {
      "cell_type": "markdown",
      "source": [
        "String Methods"
      ],
      "metadata": {
        "id": "OUofQI87etOC"
      }
    },
    {
      "cell_type": "code",
      "source": [
        "#string\n",
        "my_string = \"this is a string\""
      ],
      "metadata": {
        "id": "_411Yso6exIb"
      },
      "execution_count": 41,
      "outputs": []
    },
    {
      "cell_type": "code",
      "source": [
        "my_string.upper()"
      ],
      "metadata": {
        "colab": {
          "base_uri": "https://localhost:8080/",
          "height": 35
        },
        "id": "JFvydfgVe7Dq",
        "outputId": "cd0a1279-3160-4823-a23d-5b042f5c3e25"
      },
      "execution_count": 42,
      "outputs": [
        {
          "output_type": "execute_result",
          "data": {
            "text/plain": [
              "'THIS IS A STRING'"
            ],
            "application/vnd.google.colaboratory.intrinsic+json": {
              "type": "string"
            }
          },
          "metadata": {},
          "execution_count": 42
        }
      ]
    },
    {
      "cell_type": "markdown",
      "source": [
        "capitalize"
      ],
      "metadata": {
        "id": "PFe-5o31fUdf"
      }
    },
    {
      "cell_type": "code",
      "source": [
        "#capitalize\n",
        "my_string.capitalize()"
      ],
      "metadata": {
        "colab": {
          "base_uri": "https://localhost:8080/",
          "height": 35
        },
        "id": "Yc_w_FrSfWS8",
        "outputId": "e2fb1bdd-c086-437b-f9bd-a44bda91ce92"
      },
      "execution_count": 43,
      "outputs": [
        {
          "output_type": "execute_result",
          "data": {
            "text/plain": [
              "'This is a string'"
            ],
            "application/vnd.google.colaboratory.intrinsic+json": {
              "type": "string"
            }
          },
          "metadata": {},
          "execution_count": 43
        }
      ]
    },
    {
      "cell_type": "code",
      "source": [
        "len(my_string.split())"
      ],
      "metadata": {
        "colab": {
          "base_uri": "https://localhost:8080/"
        },
        "id": "4v-0ylOxidw-",
        "outputId": "4fa373b4-bcf1-41da-9807-b3163207dcf4"
      },
      "execution_count": 44,
      "outputs": [
        {
          "output_type": "execute_result",
          "data": {
            "text/plain": [
              "4"
            ]
          },
          "metadata": {},
          "execution_count": 44
        }
      ]
    },
    {
      "cell_type": "markdown",
      "source": [
        "check \n",
        "www.programiz.com"
      ],
      "metadata": {
        "id": "YzDIjJaMfllH"
      }
    },
    {
      "cell_type": "markdown",
      "source": [
        "split"
      ],
      "metadata": {
        "id": "_wIcJADIf3-_"
      }
    },
    {
      "cell_type": "code",
      "source": [
        "#split\n",
        "my_string"
      ],
      "metadata": {
        "colab": {
          "base_uri": "https://localhost:8080/",
          "height": 35
        },
        "id": "YEnINoTlfsbD",
        "outputId": "b8e579f0-bd37-48c0-baa2-669975d8456b"
      },
      "execution_count": 45,
      "outputs": [
        {
          "output_type": "execute_result",
          "data": {
            "text/plain": [
              "'this is a string'"
            ],
            "application/vnd.google.colaboratory.intrinsic+json": {
              "type": "string"
            }
          },
          "metadata": {},
          "execution_count": 45
        }
      ]
    },
    {
      "cell_type": "code",
      "source": [
        "my_string.split()"
      ],
      "metadata": {
        "colab": {
          "base_uri": "https://localhost:8080/"
        },
        "id": "74B63olTf8wp",
        "outputId": "893b6f45-490a-4ccb-976f-24b31e64b5d8"
      },
      "execution_count": 48,
      "outputs": [
        {
          "output_type": "execute_result",
          "data": {
            "text/plain": [
              "['this', 'is', 'a', 'string']"
            ]
          },
          "metadata": {},
          "execution_count": 48
        }
      ]
    },
    {
      "cell_type": "code",
      "source": [
        "my_string.casefold()"
      ],
      "metadata": {
        "colab": {
          "base_uri": "https://localhost:8080/",
          "height": 35
        },
        "id": "XBbK-k5TEWv5",
        "outputId": "dad5edaa-e64d-4bc3-e481-3e3479c00b7e"
      },
      "execution_count": 51,
      "outputs": [
        {
          "output_type": "execute_result",
          "data": {
            "text/plain": [
              "'this is a string'"
            ],
            "application/vnd.google.colaboratory.intrinsic+json": {
              "type": "string"
            }
          },
          "metadata": {},
          "execution_count": 51
        }
      ]
    },
    {
      "cell_type": "markdown",
      "source": [
        "List methods. we have already used a few list methods when working with list. we have used methods like .append(), .pop(), .remove(), and .insert()"
      ],
      "metadata": {
        "id": "KOX73xc7hDKH"
      }
    },
    {
      "cell_type": "code",
      "source": [
        "weekdays = [\"Monday\", \"Tuesday\", \"Wednesday\", \"Thursday\"]"
      ],
      "metadata": {
        "id": "Va_f7-J5gCnO"
      },
      "execution_count": 52,
      "outputs": []
    },
    {
      "cell_type": "code",
      "source": [
        "#finnd the index position of an element in the list:\n",
        "weekdays.index(\"Wednesday\")"
      ],
      "metadata": {
        "colab": {
          "base_uri": "https://localhost:8080/"
        },
        "id": "UFV2A-LShvJh",
        "outputId": "4497bbbc-f900-4c8a-bfc3-7b7805381bab"
      },
      "execution_count": 53,
      "outputs": [
        {
          "output_type": "execute_result",
          "data": {
            "text/plain": [
              "2"
            ]
          },
          "metadata": {},
          "execution_count": 53
        }
      ]
    },
    {
      "cell_type": "code",
      "source": [
        "#don't work accross the board\n",
        "weekdays.remove(\"Tuesday\")\n",
        "weekdays"
      ],
      "metadata": {
        "colab": {
          "base_uri": "https://localhost:8080/"
        },
        "id": "NnYWsGhTi6PQ",
        "outputId": "39973da8-1a72-40b9-b872-a52b06c589c6"
      },
      "execution_count": null,
      "outputs": [
        {
          "output_type": "execute_result",
          "data": {
            "text/plain": [
              "['Monday', 'Wednesday', 'Thursday']"
            ]
          },
          "metadata": {},
          "execution_count": 102
        }
      ]
    },
    {
      "cell_type": "code",
      "source": [
        "weekdays.append(\"Friday\")\n",
        "weekdays"
      ],
      "metadata": {
        "colab": {
          "base_uri": "https://localhost:8080/"
        },
        "id": "N6EcnCtTuqqP",
        "outputId": "eed809cf-6bb9-4cf7-eac3-1d533a3cf7a8"
      },
      "execution_count": null,
      "outputs": [
        {
          "output_type": "execute_result",
          "data": {
            "text/plain": [
              "['Monday', 'Wednesday', 'Thursday', 'Friday']"
            ]
          },
          "metadata": {},
          "execution_count": 121
        }
      ]
    },
    {
      "cell_type": "markdown",
      "source": [
        "Looping functions"
      ],
      "metadata": {
        "id": "WF48MfoPjvJc"
      }
    },
    {
      "cell_type": "code",
      "source": [
        "#a list of lists (or a nested list) of people's names, heights, weights in meters:\n",
        "students = [\n",
        "    [\"Joe\", 1.82, 84.2],\n",
        "    [\"Susan\", 1.59, 56.3],\n",
        "    [\"Holly\", 1.66, 59.1],\n",
        "    [\"Meghan\", 1.61, 50.8],\n",
        "    [\"Mike\", 1.79, 81.3],\n",
        "    [\"Claudi\", 1.86, 113.1],\n",
        "    [\"Jane\", 1.65, 54.9],\n",
        "    [\"Maria\", 1.61, 52.6],\n",
        "    [\"Douglas\", 1.91, 89.2],\n",
        "    [\"Sam\", 1.86, 86],\n",
        "]"
      ],
      "metadata": {
        "id": "wfRV10Uojv01"
      },
      "execution_count": 56,
      "outputs": []
    },
    {
      "cell_type": "code",
      "source": [
        "students"
      ],
      "metadata": {
        "colab": {
          "base_uri": "https://localhost:8080/"
        },
        "id": "xmSj4hE1kf2l",
        "outputId": "9efbb26c-c229-488a-fd8b-774991b86fa7"
      },
      "execution_count": 57,
      "outputs": [
        {
          "output_type": "execute_result",
          "data": {
            "text/plain": [
              "[['Joe', 1.82, 84.2],\n",
              " ['Susan', 1.59, 56.3],\n",
              " ['Holly', 1.66, 59.1],\n",
              " ['Meghan', 1.61, 50.8],\n",
              " ['Mike', 1.79, 81.3],\n",
              " ['Claudi', 1.86, 113.1],\n",
              " ['Jane', 1.65, 54.9],\n",
              " ['Maria', 1.61, 52.6],\n",
              " ['Douglas', 1.91, 89.2],\n",
              " ['Sam', 1.86, 86]]"
            ]
          },
          "metadata": {},
          "execution_count": 57
        }
      ]
    },
    {
      "cell_type": "code",
      "source": [
        "students[0]"
      ],
      "metadata": {
        "colab": {
          "base_uri": "https://localhost:8080/"
        },
        "id": "Dxx47dvXkhG-",
        "outputId": "c5079fe0-94f2-4b8d-9a82-6c3e83d38953"
      },
      "execution_count": 58,
      "outputs": [
        {
          "output_type": "execute_result",
          "data": {
            "text/plain": [
              "['Joe', 1.82, 84.2]"
            ]
          },
          "metadata": {},
          "execution_count": 58
        }
      ]
    },
    {
      "cell_type": "code",
      "source": [
        "students[2]"
      ],
      "metadata": {
        "colab": {
          "base_uri": "https://localhost:8080/"
        },
        "id": "yQBaiM1ckmYw",
        "outputId": "43408573-5fd2-4225-d71d-5e49a0b7dc80"
      },
      "execution_count": 59,
      "outputs": [
        {
          "output_type": "execute_result",
          "data": {
            "text/plain": [
              "['Holly', 1.66, 59.1]"
            ]
          },
          "metadata": {},
          "execution_count": 59
        }
      ]
    },
    {
      "cell_type": "code",
      "source": [
        "x = students[0]"
      ],
      "metadata": {
        "id": "i_GUR238kpkf"
      },
      "execution_count": 60,
      "outputs": []
    },
    {
      "cell_type": "code",
      "source": [
        "x"
      ],
      "metadata": {
        "colab": {
          "base_uri": "https://localhost:8080/"
        },
        "id": "E-0GtCdskyAy",
        "outputId": "16b977e5-c48a-40b8-b8ba-3144c7b15acc"
      },
      "execution_count": 61,
      "outputs": [
        {
          "output_type": "execute_result",
          "data": {
            "text/plain": [
              "['Joe', 1.82, 84.2]"
            ]
          },
          "metadata": {},
          "execution_count": 61
        }
      ]
    },
    {
      "cell_type": "code",
      "source": [
        "x[0]"
      ],
      "metadata": {
        "colab": {
          "base_uri": "https://localhost:8080/",
          "height": 35
        },
        "id": "NjTKpsURky-3",
        "outputId": "6aec76f9-b500-48fd-eb6d-df73f2aa4770"
      },
      "execution_count": 62,
      "outputs": [
        {
          "output_type": "execute_result",
          "data": {
            "text/plain": [
              "'Joe'"
            ],
            "application/vnd.google.colaboratory.intrinsic+json": {
              "type": "string"
            }
          },
          "metadata": {},
          "execution_count": 62
        }
      ]
    },
    {
      "cell_type": "code",
      "source": [
        "x[1]"
      ],
      "metadata": {
        "colab": {
          "base_uri": "https://localhost:8080/"
        },
        "id": "m8NC3X-5k3yr",
        "outputId": "5002d6c4-e43c-46b7-9574-f6d5601095f2"
      },
      "execution_count": 63,
      "outputs": [
        {
          "output_type": "execute_result",
          "data": {
            "text/plain": [
              "1.82"
            ]
          },
          "metadata": {},
          "execution_count": 63
        }
      ]
    },
    {
      "cell_type": "code",
      "source": [
        "x[2]"
      ],
      "metadata": {
        "colab": {
          "base_uri": "https://localhost:8080/"
        },
        "id": "m0NTaKq0k8TV",
        "outputId": "874cce17-c073-4c21-dc28-b9263c235caa"
      },
      "execution_count": 64,
      "outputs": [
        {
          "output_type": "execute_result",
          "data": {
            "text/plain": [
              "84.2"
            ]
          },
          "metadata": {},
          "execution_count": 64
        }
      ]
    },
    {
      "cell_type": "code",
      "source": [
        "Joe_bmi = x[2]/(x[1]**2)\n",
        "Joe_bmi"
      ],
      "metadata": {
        "colab": {
          "base_uri": "https://localhost:8080/"
        },
        "id": "kHK7uODPk-4W",
        "outputId": "dea9a465-3891-422a-e60f-17f3736f97cc"
      },
      "execution_count": 65,
      "outputs": [
        {
          "output_type": "execute_result",
          "data": {
            "text/plain": [
              "25.4196353097452"
            ]
          },
          "metadata": {},
          "execution_count": 65
        }
      ]
    },
    {
      "cell_type": "code",
      "source": [
        "d = students[5]"
      ],
      "metadata": {
        "id": "cMuFi1jHlJsw"
      },
      "execution_count": 67,
      "outputs": []
    },
    {
      "cell_type": "code",
      "source": [
        "d[0]"
      ],
      "metadata": {
        "colab": {
          "base_uri": "https://localhost:8080/",
          "height": 35
        },
        "id": "9PuFRBO5Ifir",
        "outputId": "35ea643f-3e4f-4bf2-d503-c01f3d4320cc"
      },
      "execution_count": 68,
      "outputs": [
        {
          "output_type": "execute_result",
          "data": {
            "text/plain": [
              "'Claudi'"
            ],
            "application/vnd.google.colaboratory.intrinsic+json": {
              "type": "string"
            }
          },
          "metadata": {},
          "execution_count": 68
        }
      ]
    },
    {
      "cell_type": "code",
      "source": [
        "claudi_bmi = d[2]/(d[1]**2)"
      ],
      "metadata": {
        "id": "1P5hp6X4Ikwm"
      },
      "execution_count": 69,
      "outputs": []
    },
    {
      "cell_type": "code",
      "source": [
        "claudi_bmi"
      ],
      "metadata": {
        "colab": {
          "base_uri": "https://localhost:8080/"
        },
        "id": "MomJJBhXI2Qw",
        "outputId": "3b900cae-e715-4586-c538-42bbd52258ea"
      },
      "execution_count": 70,
      "outputs": [
        {
          "output_type": "execute_result",
          "data": {
            "text/plain": [
              "32.6916406520985"
            ]
          },
          "metadata": {},
          "execution_count": 70
        }
      ]
    },
    {
      "cell_type": "code",
      "source": [
        "susan_bmi = students[1][2]/(students[1][1]**2)\n",
        "susan_bmi"
      ],
      "metadata": {
        "colab": {
          "base_uri": "https://localhost:8080/"
        },
        "id": "AjhfikpUlcXo",
        "outputId": "32f3f982-33b9-473c-b9ca-168148d73c2f"
      },
      "execution_count": 71,
      "outputs": [
        {
          "output_type": "execute_result",
          "data": {
            "text/plain": [
              "22.26968869902298"
            ]
          },
          "metadata": {},
          "execution_count": 71
        }
      ]
    },
    {
      "cell_type": "code",
      "source": [
        "y = students[1]\n",
        "susan_bmi = y[2]/(y[1]**2)\n",
        "susan_bmi"
      ],
      "metadata": {
        "colab": {
          "base_uri": "https://localhost:8080/"
        },
        "id": "3-_0_NDvlyvx",
        "outputId": "9ba42a92-9568-4068-9243-fe5bf07aef2a"
      },
      "execution_count": 72,
      "outputs": [
        {
          "output_type": "execute_result",
          "data": {
            "text/plain": [
              "22.26968869902298"
            ]
          },
          "metadata": {},
          "execution_count": 72
        }
      ]
    },
    {
      "cell_type": "code",
      "source": [
        "def multiple_bmi(list):\n",
        "  '''\n",
        "  function to calculate individual BMIs\n",
        "  Parameters: a nested list of names, height, and weights\n",
        "  Returns: a list of names and their BMI\n",
        "  '''\n",
        "  bmis = []\n",
        "  #empty list that we'll add things to later\n",
        "  for x in list:\n",
        "    #for loop specifying each row in our list of people\n",
        "    y = x[2]/x[1]**2\n",
        "    z = [ x[0], y ]\n",
        "    #print(z)\n",
        "    bmis.append(z)\n",
        "    #adds the name and BMI result to our empty list using indexing\n",
        "    #done in 2 steps because append() only takes 1 arguement at a time\n",
        "  return bmis\n",
        "  #returns our list, now filled with names and BMI"
      ],
      "metadata": {
        "id": "ZX5sPFxGmeX0"
      },
      "execution_count": 74,
      "outputs": []
    },
    {
      "cell_type": "code",
      "source": [
        "multiple_bmi(students)"
      ],
      "metadata": {
        "colab": {
          "base_uri": "https://localhost:8080/"
        },
        "id": "WLZkhRDurzIs",
        "outputId": "0442328a-ebb3-4098-a8be-d2051132e24a"
      },
      "execution_count": 75,
      "outputs": [
        {
          "output_type": "execute_result",
          "data": {
            "text/plain": [
              "[['Joe', 25.4196353097452],\n",
              " ['Susan', 22.26968869902298],\n",
              " ['Holly', 21.447234722020614],\n",
              " ['Meghan', 19.59800933605956],\n",
              " ['Mike', 25.373739895758558],\n",
              " ['Claudi', 32.6916406520985],\n",
              " ['Jane', 20.16528925619835],\n",
              " ['Maria', 20.292426989699468],\n",
              " ['Douglas', 24.45108412598339],\n",
              " ['Sam', 24.858365128916635]]"
            ]
          },
          "metadata": {},
          "execution_count": 75
        }
      ]
    },
    {
      "cell_type": "code",
      "source": [
        "BMIs = multiple_bmi(students)"
      ],
      "metadata": {
        "id": "wuxvpW5UX-Ux"
      },
      "execution_count": 76,
      "outputs": []
    },
    {
      "cell_type": "markdown",
      "source": [
        "Python packages: \n",
        "What is a package?: python's super powers. other people have written a bunch of code to handle just about any task."
      ],
      "metadata": {
        "id": "c3w2Qw90xvSY"
      }
    },
    {
      "cell_type": "code",
      "source": [
        "#Packages: need to do x? there's a package for that!\n",
        "#Meet your first package:math -- comes with mathematical functions like sine, cosine, arctan, square rrot, etc\n",
        "import math\n",
        "math.sqrt(4)"
      ],
      "metadata": {
        "colab": {
          "base_uri": "https://localhost:8080/"
        },
        "id": "W6DherE8v92N",
        "outputId": "93e5fd42-4f85-466e-de98-1e42e45b7b93"
      },
      "execution_count": 77,
      "outputs": [
        {
          "output_type": "execute_result",
          "data": {
            "text/plain": [
              "2.0"
            ]
          },
          "metadata": {},
          "execution_count": 77
        }
      ]
    },
    {
      "cell_type": "code",
      "source": [
        "import math as m\n",
        "m.sqrt(16)"
      ],
      "metadata": {
        "colab": {
          "base_uri": "https://localhost:8080/"
        },
        "id": "hbHpytVkyVOY",
        "outputId": "958296f0-9c9e-44f5-b6fc-34c4dc9e42dc"
      },
      "execution_count": null,
      "outputs": [
        {
          "output_type": "execute_result",
          "data": {
            "text/plain": [
              "4.0"
            ]
          },
          "metadata": {},
          "execution_count": 124
        }
      ]
    },
    {
      "cell_type": "markdown",
      "source": [
        "What if we only wanted module from Math? python allows you to select specific"
      ],
      "metadata": {
        "id": "-IqUmoqyzZ_n"
      }
    },
    {
      "cell_type": "code",
      "source": [
        "from math import sqrt\n",
        "sqrt(9)"
      ],
      "metadata": {
        "colab": {
          "base_uri": "https://localhost:8080/"
        },
        "id": "19VLpRtEy1sL",
        "outputId": "39f91062-93aa-422f-9dd6-6f76b4da2ab2"
      },
      "execution_count": null,
      "outputs": [
        {
          "output_type": "execute_result",
          "data": {
            "text/plain": [
              "3.0"
            ]
          },
          "metadata": {},
          "execution_count": 125
        }
      ]
    },
    {
      "cell_type": "markdown",
      "source": [
        "python 'IF' statments. run code only if certain conditions are met"
      ],
      "metadata": {
        "id": "H4crGMR10Dui"
      }
    },
    {
      "cell_type": "code",
      "source": [
        "if 4 > 5:\n",
        "  print(\"Four is greater than five\")"
      ],
      "metadata": {
        "id": "sfZWxKpLzze3"
      },
      "execution_count": 78,
      "outputs": []
    },
    {
      "cell_type": "code",
      "source": [
        "if 5 > 4:\n",
        "  print(\"Five is greater than four.\")"
      ],
      "metadata": {
        "colab": {
          "base_uri": "https://localhost:8080/"
        },
        "id": "JpDLk7IQ0aN2",
        "outputId": "d89e4a89-6cc3-42a2-d60e-fe9590587ac0"
      },
      "execution_count": 79,
      "outputs": [
        {
          "output_type": "stream",
          "name": "stdout",
          "text": [
            "Five is greater than four.\n"
          ]
        }
      ]
    },
    {
      "cell_type": "markdown",
      "source": [
        "Comparison operators:\n",
        "== equality\n",
        "!= inequality(not equal to)\n",
        "> greater than\n",
        "< the less than\n",
        ">= greater than or equal to\n",
        "<= less than or equal to"
      ],
      "metadata": {
        "id": "Io1BmqZ_0tUP"
      }
    },
    {
      "cell_type": "code",
      "source": [
        "5 == 4"
      ],
      "metadata": {
        "colab": {
          "base_uri": "https://localhost:8080/"
        },
        "id": "6eBy1RcY0jaQ",
        "outputId": "ff12e199-8e97-4bdc-d001-0998446f4d33"
      },
      "execution_count": null,
      "outputs": [
        {
          "output_type": "execute_result",
          "data": {
            "text/plain": [
              "False"
            ]
          },
          "metadata": {},
          "execution_count": 128
        }
      ]
    },
    {
      "cell_type": "code",
      "source": [
        "4 != 5"
      ],
      "metadata": {
        "colab": {
          "base_uri": "https://localhost:8080/"
        },
        "id": "wqDoiGNJ1O-n",
        "outputId": "b3508852-0aeb-4196-96f2-6790a1a3f3c2"
      },
      "execution_count": null,
      "outputs": [
        {
          "output_type": "execute_result",
          "data": {
            "text/plain": [
              "True"
            ]
          },
          "metadata": {},
          "execution_count": 130
        }
      ]
    },
    {
      "cell_type": "markdown",
      "source": [
        "The ELSE condition"
      ],
      "metadata": {
        "id": "SqEfnOaC1Tos"
      }
    },
    {
      "cell_type": "code",
      "source": [
        "money_in_wallet = 5.00\n",
        "movie_ticket_price = 8.99\n",
        "\n",
        "if money_in_wallet >= movie_ticket_price:\n",
        "  print(\"Go to the movies!\")\n",
        "else:\n",
        "  print(\"Stay home and watch netflix\")"
      ],
      "metadata": {
        "colab": {
          "base_uri": "https://localhost:8080/"
        },
        "id": "r6QIOPpQ1SC1",
        "outputId": "2b9d8f9d-7a36-4465-e326-91e0f4d03b43"
      },
      "execution_count": null,
      "outputs": [
        {
          "output_type": "stream",
          "name": "stdout",
          "text": [
            "Stay home and watch netflix\n"
          ]
        }
      ]
    },
    {
      "cell_type": "markdown",
      "source": [
        "the ELIFE condition"
      ],
      "metadata": {
        "id": "PirzJs9i16NN"
      }
    },
    {
      "cell_type": "code",
      "source": [
        "visitor = \"George\"\n",
        "if visitor == \"Bryce\":\n",
        "  print(\"Hi Bryce!\")\n",
        "elif visitor == \"Jacob\":\n",
        "  print(\"Hi Jacob!\")\n",
        "elif visitor == \"George\":\n",
        "  print(\"Hi George!\")\n",
        "else:\n",
        "  print(\"Please to meet you!\")"
      ],
      "metadata": {
        "colab": {
          "base_uri": "https://localhost:8080/"
        },
        "id": "2dhLe3j419ud",
        "outputId": "f984d164-dc22-42fa-a3cb-a1704020e1e3"
      },
      "execution_count": 80,
      "outputs": [
        {
          "output_type": "stream",
          "name": "stdout",
          "text": [
            "Hi George!\n"
          ]
        }
      ]
    },
    {
      "cell_type": "markdown",
      "source": [
        "The 'in' keyword"
      ],
      "metadata": {
        "id": "ds5Ynjbe2rVT"
      }
    },
    {
      "cell_type": "code",
      "source": [
        "friends = [\"Bryce\", \"Jacob\", \"Mike\", \"Ben\", \"Young\"]\n",
        "visitor = \"Claudi\"\n",
        "if visitor in friends:\n",
        "  print(\"Hi\" + visitor + \"!\")\n",
        "else:\n",
        "  print(\"Please to meet you!\")"
      ],
      "metadata": {
        "colab": {
          "base_uri": "https://localhost:8080/"
        },
        "id": "0HWc8BwT2vHZ",
        "outputId": "b579d6a0-30af-445a-e82e-29ec7806cc99"
      },
      "execution_count": 81,
      "outputs": [
        {
          "output_type": "stream",
          "name": "stdout",
          "text": [
            "Please to meet you!\n"
          ]
        }
      ]
    },
    {
      "cell_type": "markdown",
      "source": [
        "Logical operators\n",
        "'and'\n",
        "'or'"
      ],
      "metadata": {
        "id": "FPq_VpBA3ZvL"
      }
    },
    {
      "cell_type": "code",
      "source": [
        "wants_to_learn_data_science = True\n",
        "will_work_hard = True\n",
        "age = 20\n",
        "\n",
        "if age >= 21 and wants_to_learn_data_science and will_work_hard:\n",
        "  print(\"Go to OSTEMB School!\")\n",
        "elif wants_to_learn_data_science or will_work_hard or age >= 18:\n",
        "  print(\"Your future is bright\")\n",
        "else:\n",
        "  print(\"Find something that is a good fit for you\")"
      ],
      "metadata": {
        "colab": {
          "base_uri": "https://localhost:8080/"
        },
        "id": "wgsn7LpN3i2c",
        "outputId": "6f3bcfb9-14ca-484d-9956-484208d8480a"
      },
      "execution_count": 83,
      "outputs": [
        {
          "output_type": "stream",
          "name": "stdout",
          "text": [
            "Your future is bright\n"
          ]
        }
      ]
    },
    {
      "cell_type": "code",
      "source": [
        "##STOP! BEFORE GOING ANY FURTHER...  \n",
        "\n",
        "\n",
        "#1. Click \"File\" at the top.\n",
        "#2. Then, \"Save a Copy in Drive.\"\n",
        "#3. Change the file name to \"FIRSTNAME_LASTNAME_1_2\"  \n",
        "\n",
        "#Now you have a copy of this notebook in your Drive account. This is the copy you'll edit and submit. Be sure to do this for ***every*** assignment!"
      ],
      "metadata": {
        "id": "IhG9HVaalNHg"
      },
      "execution_count": null,
      "outputs": []
    },
    {
      "cell_type": "code",
      "source": [
        "## Part 1: Functions"
      ],
      "metadata": {
        "id": "y17cojArlUbb"
      },
      "execution_count": null,
      "outputs": []
    },
    {
      "cell_type": "code",
      "source": [
        "### Built-in functions\n",
        "#---\n",
        "#Make sure to run the cell below before beginning your assignment."
      ],
      "metadata": {
        "id": "dYRr1XAklhZm"
      },
      "execution_count": null,
      "outputs": []
    },
    {
      "cell_type": "code",
      "source": [
        "x = [\"a\", \"b\", \"c\", \"d\", \"e\", \"f\"]"
      ],
      "metadata": {
        "id": "HY_lQ83NmHSm"
      },
      "execution_count": 84,
      "outputs": []
    },
    {
      "cell_type": "code",
      "source": [
        "### 1.1 For the list of values provided:\n",
        "\n",
        "\n",
        "#   Max?\n",
        "#   Min?\n",
        "#   Number of elements in the list?\n",
        "#   Sort the list in _descending_ order."
      ],
      "metadata": {
        "id": "Xuy7-HIomISv"
      },
      "execution_count": null,
      "outputs": []
    },
    {
      "cell_type": "code",
      "source": [
        "#TODO Max\n",
        "max(x)"
      ],
      "metadata": {
        "colab": {
          "base_uri": "https://localhost:8080/",
          "height": 35
        },
        "id": "yFwWRF73mU_d",
        "outputId": "33882a0f-7218-4549-887a-015f04e7abd2"
      },
      "execution_count": 93,
      "outputs": [
        {
          "output_type": "execute_result",
          "data": {
            "text/plain": [
              "'f'"
            ],
            "application/vnd.google.colaboratory.intrinsic+json": {
              "type": "string"
            }
          },
          "metadata": {},
          "execution_count": 93
        }
      ]
    },
    {
      "cell_type": "code",
      "source": [
        "#TODO Min\n",
        "min(x)"
      ],
      "metadata": {
        "colab": {
          "base_uri": "https://localhost:8080/",
          "height": 35
        },
        "id": "W9RdA8H7mfgr",
        "outputId": "55eed5a2-a6e0-4fe7-f604-bb52f7d7effe"
      },
      "execution_count": 94,
      "outputs": [
        {
          "output_type": "execute_result",
          "data": {
            "text/plain": [
              "'a'"
            ],
            "application/vnd.google.colaboratory.intrinsic+json": {
              "type": "string"
            }
          },
          "metadata": {},
          "execution_count": 94
        }
      ]
    },
    {
      "cell_type": "code",
      "source": [
        "#TODO number of elements\n",
        "len(x)"
      ],
      "metadata": {
        "colab": {
          "base_uri": "https://localhost:8080/"
        },
        "id": "r6Rmq6Wtm6CY",
        "outputId": "fef93b35-22d4-4366-ad3c-5e7828e7d928"
      },
      "execution_count": 95,
      "outputs": [
        {
          "output_type": "execute_result",
          "data": {
            "text/plain": [
              "6"
            ]
          },
          "metadata": {},
          "execution_count": 95
        }
      ]
    },
    {
      "cell_type": "code",
      "source": [
        "#TODO Sort\n",
        "sorted(x)"
      ],
      "metadata": {
        "colab": {
          "base_uri": "https://localhost:8080/"
        },
        "id": "r0g5ZIUOm8l6",
        "outputId": "a12e496a-ae4c-4bcc-9a36-b03c10e9580e"
      },
      "execution_count": 96,
      "outputs": [
        {
          "output_type": "execute_result",
          "data": {
            "text/plain": [
              "['a', 'b', 'c', 'd', 'e', 'f']"
            ]
          },
          "metadata": {},
          "execution_count": 96
        }
      ]
    },
    {
      "cell_type": "markdown",
      "source": [
        "### Methods"
      ],
      "metadata": {
        "id": "_8-SQ_5-nqUZ"
      }
    },
    {
      "cell_type": "markdown",
      "source": [
        "### 1.2 Using the same list:\n",
        "\n",
        "*  Remove the second to last element. \n",
        "*  Add the letter \"z\" to the list.\n",
        "*  Empty out the list.\n"
      ],
      "metadata": {
        "id": "H5Uz-LdonuhL"
      }
    },
    {
      "cell_type": "code",
      "source": [
        "x = [\"a\", \"b\", \"c\", \"d\", \"e\", \"f\"]"
      ],
      "metadata": {
        "id": "pSXBCHd5oT3D"
      },
      "execution_count": 113,
      "outputs": []
    },
    {
      "cell_type": "code",
      "source": [
        "#TODO\n",
        "x.remove(\"e\")\n",
        "x"
      ],
      "metadata": {
        "colab": {
          "base_uri": "https://localhost:8080/"
        },
        "id": "NKnq5AElnxoE",
        "outputId": "b5827ca2-3b78-4113-e2c7-56ba6caad2f2"
      },
      "execution_count": 114,
      "outputs": [
        {
          "output_type": "execute_result",
          "data": {
            "text/plain": [
              "['a', 'b', 'c', 'd', 'f']"
            ]
          },
          "metadata": {},
          "execution_count": 114
        }
      ]
    },
    {
      "cell_type": "code",
      "source": [
        "#TODO\n",
        "x.insert(2, 'r')\n",
        "x"
      ],
      "metadata": {
        "colab": {
          "base_uri": "https://localhost:8080/"
        },
        "id": "VQkS3mLepYvS",
        "outputId": "26ad3904-bab7-4c6f-a54f-fb2aa7ffae99"
      },
      "execution_count": 115,
      "outputs": [
        {
          "output_type": "execute_result",
          "data": {
            "text/plain": [
              "['a', 'b', 'r', 'c', 'd', 'f']"
            ]
          },
          "metadata": {},
          "execution_count": 115
        }
      ]
    },
    {
      "cell_type": "code",
      "source": [
        "x.append(\"z\")\n",
        "x"
      ],
      "metadata": {
        "colab": {
          "base_uri": "https://localhost:8080/"
        },
        "id": "g_Ek8ZbXoG5-",
        "outputId": "b2dedf1c-88f7-4e6f-8cfd-b3a88dba9bb4"
      },
      "execution_count": 116,
      "outputs": [
        {
          "output_type": "execute_result",
          "data": {
            "text/plain": [
              "['a', 'b', 'r', 'c', 'd', 'f', 'z']"
            ]
          },
          "metadata": {},
          "execution_count": 116
        }
      ]
    },
    {
      "cell_type": "markdown",
      "source": [
        "### 1.3 For the string provided:\n",
        "\n",
        "* Capitalize the entire string.\n",
        "* Split the string at every empty space."
      ],
      "metadata": {
        "id": "L3OFhjmRp1aK"
      }
    },
    {
      "cell_type": "code",
      "source": [
        "y = \"to thine own self be true, and it must follow, as the night, the day, thou can not then be false to any man.\""
      ],
      "metadata": {
        "id": "ZdT-8th-p2XX"
      },
      "execution_count": 119,
      "outputs": []
    },
    {
      "cell_type": "code",
      "source": [
        "#TODO\n",
        "y.upper()"
      ],
      "metadata": {
        "colab": {
          "base_uri": "https://localhost:8080/",
          "height": 35
        },
        "id": "w0XPBcKAqO0W",
        "outputId": "5b532155-c02f-433b-f454-0629f057bf5f"
      },
      "execution_count": 120,
      "outputs": [
        {
          "output_type": "execute_result",
          "data": {
            "text/plain": [
              "'TO THINE OWN SELF BE TRUE, AND IT MUST FOLLOW, AS THE NIGHT, THE DAY, THOU CAN NOT THEN BE FALSE TO ANY MAN.'"
            ],
            "application/vnd.google.colaboratory.intrinsic+json": {
              "type": "string"
            }
          },
          "metadata": {},
          "execution_count": 120
        }
      ]
    },
    {
      "cell_type": "code",
      "source": [
        "#TODO\n",
        "y.split()"
      ],
      "metadata": {
        "colab": {
          "base_uri": "https://localhost:8080/"
        },
        "id": "h2OfJkSkqSvf",
        "outputId": "fea1ff33-330c-4f3a-d121-427e4565a53b"
      },
      "execution_count": 121,
      "outputs": [
        {
          "output_type": "execute_result",
          "data": {
            "text/plain": [
              "['to',\n",
              " 'thine',\n",
              " 'own',\n",
              " 'self',\n",
              " 'be',\n",
              " 'true,',\n",
              " 'and',\n",
              " 'it',\n",
              " 'must',\n",
              " 'follow,',\n",
              " 'as',\n",
              " 'the',\n",
              " 'night,',\n",
              " 'the',\n",
              " 'day,',\n",
              " 'thou',\n",
              " 'can',\n",
              " 'not',\n",
              " 'then',\n",
              " 'be',\n",
              " 'false',\n",
              " 'to',\n",
              " 'any',\n",
              " 'man.']"
            ]
          },
          "metadata": {},
          "execution_count": 121
        }
      ]
    },
    {
      "cell_type": "markdown",
      "source": [
        "### Custom Functions"
      ],
      "metadata": {
        "id": "cHJ72l0VqwOV"
      }
    },
    {
      "cell_type": "markdown",
      "source": [
        "### 1.4 Create a function that returns the sum of two numbers."
      ],
      "metadata": {
        "id": "IEKxpod4qyDP"
      }
    },
    {
      "cell_type": "code",
      "source": [
        "#TODO (Function name should be called summation)\n",
        "def summation(num1, num2):\n",
        "  y = num1 + num2\n",
        "  return(y)"
      ],
      "metadata": {
        "id": "p0pmSSZ_q2Mm"
      },
      "execution_count": 122,
      "outputs": []
    },
    {
      "cell_type": "code",
      "source": [
        "summation(5, 9)"
      ],
      "metadata": {
        "colab": {
          "base_uri": "https://localhost:8080/"
        },
        "id": "tOHZ5HEdr2GN",
        "outputId": "bcc6e52a-1fdc-4dc4-bd92-2e3151d6d375"
      },
      "execution_count": 123,
      "outputs": [
        {
          "output_type": "execute_result",
          "data": {
            "text/plain": [
              "14"
            ]
          },
          "metadata": {},
          "execution_count": 123
        }
      ]
    },
    {
      "cell_type": "code",
      "source": [
        "assert(5==summation(2,3)) # RUN BUT DO NOT MODIFY THIS CELL, IF IT RUNS WITHOUT ERRORS THEN YOUR CODE ABOVE WORKS"
      ],
      "metadata": {
        "id": "43wBFaxIr4rS"
      },
      "execution_count": 124,
      "outputs": []
    },
    {
      "cell_type": "markdown",
      "source": [
        "### 1.5 Create a function that, given a list of numbers, returns their average."
      ],
      "metadata": {
        "id": "jFbyRqf8sXVZ"
      }
    },
    {
      "cell_type": "code",
      "source": [
        "#TODO (Function name should be called average)\n",
        "def average(num):\n",
        "  sum_num = 0\n",
        "  for t in num:\n",
        "    sum_num = sum_num + t\n",
        "  avg = sum_num / len(num)\n",
        "  return(avg)"
      ],
      "metadata": {
        "id": "dEXG8ceesIIq"
      },
      "execution_count": 131,
      "outputs": []
    },
    {
      "cell_type": "code",
      "source": [
        "assert(3==average([1,2,3,4,5])) # RUN BUT DO NOT MODIFY THIS CELL, IF IT RUNS WITHOUT ERRORS THEN YOUR CODE ABOVE WORKS"
      ],
      "metadata": {
        "id": "HZlBlwJTtIsq"
      },
      "execution_count": 134,
      "outputs": []
    },
    {
      "cell_type": "code",
      "source": [
        "print(\"The average is\", average([1,2,3,4,5]))"
      ],
      "metadata": {
        "colab": {
          "base_uri": "https://localhost:8080/"
        },
        "id": "CvCEFnkVOGCw",
        "outputId": "ceef1d03-81ac-4a1b-b351-57dfe2bb0e8d"
      },
      "execution_count": 139,
      "outputs": [
        {
          "output_type": "stream",
          "name": "stdout",
          "text": [
            "The average is 3.0\n"
          ]
        }
      ]
    },
    {
      "cell_type": "markdown",
      "source": [
        "### 1.6 Create a function that, given a string, returns that string capitalized and reversed. "
      ],
      "metadata": {
        "id": "r07ReWZiRqI4"
      }
    },
    {
      "cell_type": "code",
      "source": [
        "def capreverse(s):\n",
        "  str = \"\"\n",
        "  for i in s:\n",
        "    str = i.capitalize() + str\n",
        "  return str"
      ],
      "metadata": {
        "id": "GlBzcW76VZhQ"
      },
      "execution_count": 13,
      "outputs": []
    },
    {
      "cell_type": "code",
      "source": [
        "assert('EGUOLO'==capreverse('olouge')) # RUN BUT DO NOT MODIFY THIS CELL, IF IT RUNS WITHOUT ERRORS THEN YOUR CODE ABOVE WORKS"
      ],
      "metadata": {
        "id": "wm087wzcXku3"
      },
      "execution_count": 14,
      "outputs": []
    },
    {
      "cell_type": "code",
      "source": [
        "capreverse(\"Claudi\")"
      ],
      "metadata": {
        "colab": {
          "base_uri": "https://localhost:8080/",
          "height": 35
        },
        "id": "MSyKkuS4YMP7",
        "outputId": "42651f6c-18cc-4f94-af1b-4f6861fa15e7"
      },
      "execution_count": 80,
      "outputs": [
        {
          "output_type": "execute_result",
          "data": {
            "text/plain": [
              "'IDUALC'"
            ],
            "application/vnd.google.colaboratory.intrinsic+json": {
              "type": "string"
            }
          },
          "metadata": {},
          "execution_count": 80
        }
      ]
    },
    {
      "cell_type": "markdown",
      "source": [
        "### 1.7 Create a function that, given a list of strings, concatenates them together with proper spacing."
      ],
      "metadata": {
        "id": "fGi1k-9YY6Rz"
      }
    },
    {
      "cell_type": "markdown",
      "source": [
        "#TODO (Function name should be called concatstr)"
      ],
      "metadata": {
        "id": "6VMN-hSqY3YC"
      }
    },
    {
      "cell_type": "code",
      "source": [
        "def concatstr"
      ],
      "metadata": {
        "id": "2LAaZwEAmZhf"
      },
      "execution_count": null,
      "outputs": []
    }
  ]
}